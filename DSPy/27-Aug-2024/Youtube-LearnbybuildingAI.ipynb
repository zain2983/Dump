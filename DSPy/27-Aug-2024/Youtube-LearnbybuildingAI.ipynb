{
  "nbformat": 4,
  "nbformat_minor": 0,
  "metadata": {
    "colab": {
      "provenance": []
    },
    "kernelspec": {
      "name": "python3",
      "display_name": "Python 3"
    },
    "language_info": {
      "name": "python"
    }
  },
  "cells": [
    {
      "cell_type": "code",
      "source": [
        "# https://www.youtube.com/watch?v=QdA-CRr_oXo\n",
        "# https://learnbybuilding.ai/tutorials/a-gentle-introduction-to-dspy"
      ],
      "metadata": {
        "id": "lsh2klst_CVL"
      },
      "execution_count": null,
      "outputs": []
    },
    {
      "cell_type": "code",
      "source": [
        "!pip install -q dspy-ai lamini rich"
      ],
      "metadata": {
        "id": "VuJ2Bqwg05kq"
      },
      "execution_count": null,
      "outputs": []
    },
    {
      "cell_type": "code",
      "source": [
        "import sys\n",
        "import os\n",
        "import dspy\n",
        "from dspy.datasets import HotPotQA\n",
        "from dspy.teleprompt import BootstrapFewShot\n",
        "from dspy.evaluate.evaluate import Evaluate\n",
        "from dsp.utils import deduplicate\n",
        "from rich import print\n",
        "from dsp import LM\n",
        "import lamini\n",
        "from dspy.datasets import HotPotQA\n",
        "import dspy\n",
        "from dspy.evaluate.evaluate import Evaluate\n",
        "# from dspy.teleprompt import bootstrapFewShot"
      ],
      "metadata": {
        "id": "z8o9PcuG07Ev"
      },
      "execution_count": null,
      "outputs": []
    },
    {
      "cell_type": "code",
      "source": [
        "import dspy\n",
        "import time\n",
        "from lamini import Lamini\n",
        "\n",
        "class CustomLMClient(dspy.LM):\n",
        "    def __init__(self):\n",
        "        self.provider = \"lamini\"\n",
        "        self.history = []\n",
        "        lamini.api_key = \"030f9952a4ee130a33d4fcfd7a7f3dbeab6b2a24a46917b6681019267130e468\"\n",
        "        self.llm = Lamini(\"meta-llama/Meta-Llama-3.1-8B-Instruct\")\n",
        "        # Add a kwargs attribute to store keyword arguments\n",
        "        self.kwargs = {'temperature': 0.95, 'max_tokens': 256}\n",
        "\n",
        "    def basic_request(self, prompt, **kwargs):\n",
        "        # Call the lamini API to generate a response\n",
        "        print(\"$ API Request sent\")\n",
        "        response = self.llm.generate(prompt)\n",
        "        return response\n",
        "\n",
        "    def __call__(self, prompt, only_completed=True, return_sorted=False, **kwargs):\n",
        "        # Add the prompt to the history\n",
        "        self.history.append(prompt)\n",
        "\n",
        "        # Get the response using the basic_request method\n",
        "        response = self.basic_request(prompt)\n",
        "\n",
        "        # Return the response\n",
        "        return response\n",
        "\n",
        "    def completions(self):\n",
        "        return self\n",
        "\n",
        "    def create(self, messages):\n",
        "        # Convert the messages to a single prompt\n",
        "        prompt = \"\\n\".join([f\"{m['role']}: {m['content']}\" for m in messages])\n",
        "        response = self.basic_request(prompt)\n",
        "        # Format the response to match the expected structure\n",
        "        return type('obj', (object,), {\n",
        "            'choices': [\n",
        "                type('obj', (object,), {\n",
        "                    'message': type('obj', (object,), {\n",
        "                        'content': response\n",
        "                    })\n",
        "                })\n",
        "            ]\n",
        "        })\n",
        "\n",
        "# Create an instance of CustomLMClient\n",
        "lm = CustomLMClient()\n",
        "\n",
        "# Configure dspy to use your custom LLM\n",
        "dspy.settings.configure(lm=lm)"
      ],
      "metadata": {
        "id": "iY27C0WHslq1"
      },
      "execution_count": null,
      "outputs": []
    },
    {
      "cell_type": "code",
      "source": [
        "import requests\n",
        "from bs4 import BeautifulSoup\n",
        "import dspy\n",
        "res = requests.get(\"https://grugbrain.dev/\")\n",
        "soup = BeautifulSoup(res.text, 'html.parser')\n",
        "raw_text = [p.text for p in soup.find_all('p') if p.text]"
      ],
      "metadata": {
        "id": "NMa2j-Q1sjX_"
      },
      "execution_count": null,
      "outputs": []
    },
    {
      "cell_type": "code",
      "source": [
        "raw_text[:10]"
      ],
      "metadata": {
        "colab": {
          "base_uri": "https://localhost:8080/"
        },
        "id": "Y7Glw1FbspM-",
        "outputId": "918943e9-3141-4345-8f36-916af6d94da9"
      },
      "execution_count": null,
      "outputs": [
        {
          "output_type": "execute_result",
          "data": {
            "text/plain": [
              "['this collection of thoughts on software development gathered by grug brain developer',\n",
              " 'grug brain developer not so smart, but grug brain developer program many long year and learn some things\\nalthough mostly still confused',\n",
              " 'grug brain developer try collect learns into small, easily digestible and funny page, not only for you, the young grug, but also for him\\nbecause as grug brain developer get older he forget important things, like what had for breakfast or if put pants on',\n",
              " 'big brained developers are many, and some not expected to like this, make sour face',\n",
              " 'THINK they are big brained developers many, many more, and more even definitely probably maybe not like this, many\\nsour face (such is internet)',\n",
              " '(note: grug once think big brained but learn hard way)',\n",
              " 'is fine!',\n",
              " 'is free country sort of and end of day not really matter too much, but grug hope you fun reading and maybe learn from\\nmany, many mistake grug make over long program life',\n",
              " 'apex predator of grug is complexity',\n",
              " 'complexity bad']"
            ]
          },
          "metadata": {},
          "execution_count": 17
        }
      ]
    },
    {
      "cell_type": "code",
      "source": [
        "# from openai import OpenAI\n",
        "# client = OpenAI()\n",
        "# openai_model_name= \"gpt-3.5-turbo\"\n",
        "\n",
        "class BuildMessages:\n",
        "    def __init__(self, system_prompt, user_prompt):\n",
        "        self.system_prompt = system_prompt\n",
        "        self.user_prompt = user_prompt\n",
        "    def render(self, **kwargs):\n",
        "        sys = self.system_prompt.format(**kwargs)\n",
        "        user = self.user_prompt.format(**kwargs)\n",
        "        return [\n",
        "            {\"role\":\"system\", \"content\":sys},\n",
        "            {\"role\":\"user\", \"content\":user},\n",
        "        ]\n",
        "\n",
        "from functools import cache\n",
        "\n",
        "@cache\n",
        "def translate_grug(grug_text):\n",
        "    prompt = BuildMessages(\n",
        "        \"You are an expert in deciphering strange text. The user will provide text written by someone named Grug and you will provide the translation.\",\n",
        "        \"\"\"Translate the following text into plain english: '{text}'.\n",
        "\n",
        "        Do not respond with any other text. Only provide that text. Now take a deep breath and begin.\"\"\"\n",
        "    )\n",
        "    result = lm.completions().create(messages=prompt.render(text=grug_text))\n",
        "    return result.choices[0].message.content"
      ],
      "metadata": {
        "id": "ImphD8h8suIG"
      },
      "execution_count": null,
      "outputs": []
    },
    {
      "cell_type": "code",
      "source": [
        "dataset = []\n",
        "for grug_text in raw_text[:10]:\n",
        "    translated = translate_grug(grug_text)\n",
        "    dataset.append({\"grug_text\":grug_text, \"plain_english\":translated})"
      ],
      "metadata": {
        "colab": {
          "base_uri": "https://localhost:8080/",
          "height": 177
        },
        "id": "V2Kf2TK4s8BI",
        "outputId": "c1527bf6-d253-4c32-9d27-50e665282803"
      },
      "execution_count": null,
      "outputs": [
        {
          "output_type": "display_data",
          "data": {
            "text/plain": [
              "$ API Request sent\n"
            ],
            "text/html": [
              "<pre style=\"white-space:pre;overflow-x:auto;line-height:normal;font-family:Menlo,'DejaVu Sans Mono',consolas,'Courier New',monospace\">$ API Request sent\n",
              "</pre>\n"
            ]
          },
          "metadata": {}
        },
        {
          "output_type": "display_data",
          "data": {
            "text/plain": [
              "$ API Request sent\n"
            ],
            "text/html": [
              "<pre style=\"white-space:pre;overflow-x:auto;line-height:normal;font-family:Menlo,'DejaVu Sans Mono',consolas,'Courier New',monospace\">$ API Request sent\n",
              "</pre>\n"
            ]
          },
          "metadata": {}
        },
        {
          "output_type": "display_data",
          "data": {
            "text/plain": [
              "$ API Request sent\n"
            ],
            "text/html": [
              "<pre style=\"white-space:pre;overflow-x:auto;line-height:normal;font-family:Menlo,'DejaVu Sans Mono',consolas,'Courier New',monospace\">$ API Request sent\n",
              "</pre>\n"
            ]
          },
          "metadata": {}
        },
        {
          "output_type": "display_data",
          "data": {
            "text/plain": [
              "$ API Request sent\n"
            ],
            "text/html": [
              "<pre style=\"white-space:pre;overflow-x:auto;line-height:normal;font-family:Menlo,'DejaVu Sans Mono',consolas,'Courier New',monospace\">$ API Request sent\n",
              "</pre>\n"
            ]
          },
          "metadata": {}
        },
        {
          "output_type": "display_data",
          "data": {
            "text/plain": [
              "$ API Request sent\n"
            ],
            "text/html": [
              "<pre style=\"white-space:pre;overflow-x:auto;line-height:normal;font-family:Menlo,'DejaVu Sans Mono',consolas,'Courier New',monospace\">$ API Request sent\n",
              "</pre>\n"
            ]
          },
          "metadata": {}
        },
        {
          "output_type": "display_data",
          "data": {
            "text/plain": [
              "$ API Request sent\n"
            ],
            "text/html": [
              "<pre style=\"white-space:pre;overflow-x:auto;line-height:normal;font-family:Menlo,'DejaVu Sans Mono',consolas,'Courier New',monospace\">$ API Request sent\n",
              "</pre>\n"
            ]
          },
          "metadata": {}
        },
        {
          "output_type": "display_data",
          "data": {
            "text/plain": [
              "$ API Request sent\n"
            ],
            "text/html": [
              "<pre style=\"white-space:pre;overflow-x:auto;line-height:normal;font-family:Menlo,'DejaVu Sans Mono',consolas,'Courier New',monospace\">$ API Request sent\n",
              "</pre>\n"
            ]
          },
          "metadata": {}
        },
        {
          "output_type": "display_data",
          "data": {
            "text/plain": [
              "$ API Request sent\n"
            ],
            "text/html": [
              "<pre style=\"white-space:pre;overflow-x:auto;line-height:normal;font-family:Menlo,'DejaVu Sans Mono',consolas,'Courier New',monospace\">$ API Request sent\n",
              "</pre>\n"
            ]
          },
          "metadata": {}
        },
        {
          "output_type": "display_data",
          "data": {
            "text/plain": [
              "$ API Request sent\n"
            ],
            "text/html": [
              "<pre style=\"white-space:pre;overflow-x:auto;line-height:normal;font-family:Menlo,'DejaVu Sans Mono',consolas,'Courier New',monospace\">$ API Request sent\n",
              "</pre>\n"
            ]
          },
          "metadata": {}
        },
        {
          "output_type": "display_data",
          "data": {
            "text/plain": [
              "$ API Request sent\n"
            ],
            "text/html": [
              "<pre style=\"white-space:pre;overflow-x:auto;line-height:normal;font-family:Menlo,'DejaVu Sans Mono',consolas,'Courier New',monospace\">$ API Request sent\n",
              "</pre>\n"
            ]
          },
          "metadata": {}
        }
      ]
    },
    {
      "cell_type": "code",
      "source": [
        "examples = []\n",
        "for row in dataset:\n",
        "    examples.append(dspy.Example(grug_text=row[\"grug_text\"], plain_english=row[\"plain_english\"]).with_inputs(\"plain_english\"))"
      ],
      "metadata": {
        "id": "7YASZpAQv-uQ"
      },
      "execution_count": null,
      "outputs": []
    },
    {
      "cell_type": "code",
      "source": [
        "print(examples[0])"
      ],
      "metadata": {
        "colab": {
          "base_uri": "https://localhost:8080/",
          "height": 289
        },
        "id": "_YfwQB0dwBbR",
        "outputId": "415cc0b9-b92d-4825-d1d4-c6087a46ed0a"
      },
      "execution_count": null,
      "outputs": [
        {
          "output_type": "display_data",
          "data": {
            "text/plain": [
              "\u001b[1;35mExample\u001b[0m\u001b[1m(\u001b[0m\u001b[1m{\u001b[0m\u001b[32m'grug_text'\u001b[0m: \u001b[32m'this collection of thoughts on software development gathered by grug brain developer'\u001b[0m, \n",
              "\u001b[32m'plain_english'\u001b[0m: \u001b[32m\" \\n        'grug think much about code. grug write code. grug make code work. grug happy. grug \u001b[0m\n",
              "\u001b[32mwant to share code with others. grug write down thoughts on code. grug hope others learn from grug.' \\n        \u001b[0m\n",
              "\u001b[32m'grug think about design patterns. grug think about object oriented programming. grug think about testing. grug \u001b[0m\n",
              "\u001b[32mthink about refactoring. grug think about many things.' \\n        'grug want to write book about software \u001b[0m\n",
              "\u001b[32mdevelopment. grug want to share knowledge with others. grug want to help others learn. grug want to make others \u001b[0m\n",
              "\u001b[32mhappy.' \\n        'grug think about many things. grug think about code. grug think about design patterns. grug \u001b[0m\n",
              "\u001b[32mthink about testing. grug think about refactoring. grug think about many things.' \\n        'grug want to write \u001b[0m\n",
              "\u001b[32mbook about software development. grug want to share knowledge with others. grug want to help others learn. grug \u001b[0m\n",
              "\u001b[32mwant to make others happy.' \\n        'grug think much about code. grug write code. grug make code work. grug \u001b[0m\n",
              "\u001b[32mhappy. grug want to share code with others. grug write down thoughts on code. grug hope others learn from grug.' \\n\u001b[0m\n",
              "\u001b[32m'grug think about design patterns. grug think about object oriented programming. grug think about testing. grug \u001b[0m\n",
              "\u001b[32mthink about refactoring. grug think about many things.' \\n        'grug want to write book about software \u001b[0m\n",
              "\u001b[32mdevelopment. grug want to share knowledge with others. grug want to help others learn. grug want to make others \u001b[0m\n",
              "\u001b[32mhappy.' \\n        'grug think much about code. grug write code. grug make code work. grug happy. grug want to share\u001b[0m\n",
              "\u001b[32mcode with others. grug write down thoughts on code. grug hope others learn from grug.' \\n        'grug think about \u001b[0m\n",
              "\u001b[32mdesign patterns\"\u001b[0m\u001b[1m}\u001b[0m\u001b[1m)\u001b[0m \u001b[1m(\u001b[0m\u001b[33minput_keys\u001b[0m=\u001b[1m{\u001b[0m\u001b[32m'plain_english'\u001b[0m\u001b[1m}\u001b[0m\u001b[1m)\u001b[0m\n"
            ],
            "text/html": [
              "<pre style=\"white-space:pre;overflow-x:auto;line-height:normal;font-family:Menlo,'DejaVu Sans Mono',consolas,'Courier New',monospace\"><span style=\"color: #800080; text-decoration-color: #800080; font-weight: bold\">Example</span><span style=\"font-weight: bold\">({</span><span style=\"color: #008000; text-decoration-color: #008000\">'grug_text'</span>: <span style=\"color: #008000; text-decoration-color: #008000\">'this collection of thoughts on software development gathered by grug brain developer'</span>, \n",
              "<span style=\"color: #008000; text-decoration-color: #008000\">'plain_english'</span>: <span style=\"color: #008000; text-decoration-color: #008000\">\" \\n        'grug think much about code. grug write code. grug make code work. grug happy. grug </span>\n",
              "<span style=\"color: #008000; text-decoration-color: #008000\">want to share code with others. grug write down thoughts on code. grug hope others learn from grug.' \\n        </span>\n",
              "<span style=\"color: #008000; text-decoration-color: #008000\">'grug think about design patterns. grug think about object oriented programming. grug think about testing. grug </span>\n",
              "<span style=\"color: #008000; text-decoration-color: #008000\">think about refactoring. grug think about many things.' \\n        'grug want to write book about software </span>\n",
              "<span style=\"color: #008000; text-decoration-color: #008000\">development. grug want to share knowledge with others. grug want to help others learn. grug want to make others </span>\n",
              "<span style=\"color: #008000; text-decoration-color: #008000\">happy.' \\n        'grug think about many things. grug think about code. grug think about design patterns. grug </span>\n",
              "<span style=\"color: #008000; text-decoration-color: #008000\">think about testing. grug think about refactoring. grug think about many things.' \\n        'grug want to write </span>\n",
              "<span style=\"color: #008000; text-decoration-color: #008000\">book about software development. grug want to share knowledge with others. grug want to help others learn. grug </span>\n",
              "<span style=\"color: #008000; text-decoration-color: #008000\">want to make others happy.' \\n        'grug think much about code. grug write code. grug make code work. grug </span>\n",
              "<span style=\"color: #008000; text-decoration-color: #008000\">happy. grug want to share code with others. grug write down thoughts on code. grug hope others learn from grug.' \\n</span>\n",
              "<span style=\"color: #008000; text-decoration-color: #008000\">'grug think about design patterns. grug think about object oriented programming. grug think about testing. grug </span>\n",
              "<span style=\"color: #008000; text-decoration-color: #008000\">think about refactoring. grug think about many things.' \\n        'grug want to write book about software </span>\n",
              "<span style=\"color: #008000; text-decoration-color: #008000\">development. grug want to share knowledge with others. grug want to help others learn. grug want to make others </span>\n",
              "<span style=\"color: #008000; text-decoration-color: #008000\">happy.' \\n        'grug think much about code. grug write code. grug make code work. grug happy. grug want to share</span>\n",
              "<span style=\"color: #008000; text-decoration-color: #008000\">code with others. grug write down thoughts on code. grug hope others learn from grug.' \\n        'grug think about </span>\n",
              "<span style=\"color: #008000; text-decoration-color: #008000\">design patterns\"</span><span style=\"font-weight: bold\">})</span> <span style=\"font-weight: bold\">(</span><span style=\"color: #808000; text-decoration-color: #808000\">input_keys</span>=<span style=\"font-weight: bold\">{</span><span style=\"color: #008000; text-decoration-color: #008000\">'plain_english'</span><span style=\"font-weight: bold\">})</span>\n",
              "</pre>\n"
            ]
          },
          "metadata": {}
        }
      ]
    },
    {
      "cell_type": "code",
      "source": [
        "import numpy as np\n",
        "from random import shuffle\n",
        "def split_for_train_test(values, test_size = 1/3.0):\n",
        "    shuffle(values)\n",
        "    train = int(len(values)-test_size*len(values))\n",
        "    print(train)\n",
        "    return values[:train], values[train:]\n",
        "train, test = split_for_train_test(examples)"
      ],
      "metadata": {
        "colab": {
          "base_uri": "https://localhost:8080/",
          "height": 33
        },
        "id": "vyIT_OXvwPel",
        "outputId": "c93e1bb9-ee0a-4244-b61b-862341ff4a57"
      },
      "execution_count": null,
      "outputs": [
        {
          "output_type": "display_data",
          "data": {
            "text/plain": [
              "\u001b[1;36m6\u001b[0m\n"
            ],
            "text/html": [
              "<pre style=\"white-space:pre;overflow-x:auto;line-height:normal;font-family:Menlo,'DejaVu Sans Mono',consolas,'Courier New',monospace\"><span style=\"color: #008080; text-decoration-color: #008080; font-weight: bold\">6</span>\n",
              "</pre>\n"
            ]
          },
          "metadata": {}
        }
      ]
    },
    {
      "cell_type": "code",
      "source": [
        "train[0]\n"
      ],
      "metadata": {
        "colab": {
          "base_uri": "https://localhost:8080/"
        },
        "id": "dzjtmsmAwTZg",
        "outputId": "fdc23d98-dab6-4b44-ad72-62bc97b961fc"
      },
      "execution_count": null,
      "outputs": [
        {
          "output_type": "execute_result",
          "data": {
            "text/plain": [
              "Example({'grug_text': 'this collection of thoughts on software development gathered by grug brain developer', 'plain_english': \" \\n        'grug think much about code. grug write code. grug make code work. grug happy. grug want to share code with others. grug write down thoughts on code. grug hope others learn from grug.' \\n        'grug think about design patterns. grug think about object oriented programming. grug think about testing. grug think about refactoring. grug think about many things.' \\n        'grug want to write book about software development. grug want to share knowledge with others. grug want to help others learn. grug want to make others happy.' \\n        'grug think about many things. grug think about code. grug think about design patterns. grug think about testing. grug think about refactoring. grug think about many things.' \\n        'grug want to write book about software development. grug want to share knowledge with others. grug want to help others learn. grug want to make others happy.' \\n        'grug think much about code. grug write code. grug make code work. grug happy. grug want to share code with others. grug write down thoughts on code. grug hope others learn from grug.' \\n        'grug think about design patterns. grug think about object oriented programming. grug think about testing. grug think about refactoring. grug think about many things.' \\n        'grug want to write book about software development. grug want to share knowledge with others. grug want to help others learn. grug want to make others happy.' \\n        'grug think much about code. grug write code. grug make code work. grug happy. grug want to share code with others. grug write down thoughts on code. grug hope others learn from grug.' \\n        'grug think about design patterns\"}) (input_keys={'plain_english'})"
            ]
          },
          "metadata": {},
          "execution_count": 26
        }
      ]
    },
    {
      "cell_type": "code",
      "source": [
        "import dspy\n",
        "class GrugTranslation(dspy.Signature):\n",
        "    \"Translate plain english to Grug text.\"\n",
        "    plain_english = dspy.InputField()\n",
        "    grug_text = dspy.OutputField()"
      ],
      "metadata": {
        "id": "jpbyeg4PyXYe"
      },
      "execution_count": null,
      "outputs": []
    },
    {
      "cell_type": "code",
      "source": [
        "# turbo = dspy.OpenAI(model='gpt-3.5-turbo', max_tokens=1000)\n",
        "# dspy.settings.configure(lm=turbo)\n",
        "\n",
        "from dspy.signatures.signature import signature_to_template\n",
        "grug_translation_as_template = signature_to_template(GrugTranslation)\n",
        "print(str(grug_translation_as_template))\n",
        "\n",
        "print(grug_translation_as_template.query(examples[0]))\n",
        "\n",
        "GrugTranslation.signature\n",
        "GrugTranslation.with_instructions"
      ],
      "metadata": {
        "colab": {
          "base_uri": "https://localhost:8080/",
          "height": 393
        },
        "id": "DrYXFMoQyZIy",
        "outputId": "0c15b287-84e4-42ac-d1f6-db67e14c4ba0"
      },
      "execution_count": null,
      "outputs": [
        {
          "output_type": "display_data",
          "data": {
            "text/plain": [
              "\u001b[1;35mTemplate\u001b[0m\u001b[1m(\u001b[0mTranslate plain english to Grug text., \u001b[1m[\u001b[0m\u001b[32m'Plain English:'\u001b[0m, \u001b[32m'Grug Text:'\u001b[0m\u001b[1m]\u001b[0m\u001b[1m)\u001b[0m\n"
            ],
            "text/html": [
              "<pre style=\"white-space:pre;overflow-x:auto;line-height:normal;font-family:Menlo,'DejaVu Sans Mono',consolas,'Courier New',monospace\"><span style=\"color: #800080; text-decoration-color: #800080; font-weight: bold\">Template</span><span style=\"font-weight: bold\">(</span>Translate plain english to Grug text., <span style=\"font-weight: bold\">[</span><span style=\"color: #008000; text-decoration-color: #008000\">'Plain English:'</span>, <span style=\"color: #008000; text-decoration-color: #008000\">'Grug Text:'</span><span style=\"font-weight: bold\">])</span>\n",
              "</pre>\n"
            ]
          },
          "metadata": {}
        },
        {
          "output_type": "display_data",
          "data": {
            "text/plain": [
              "Plain English: \u001b[32m'grug think much about code. grug write code. grug make code work. grug happy. grug want to share \u001b[0m\n",
              "\u001b[32mcode with others. grug write down thoughts on code. grug hope others learn from grug.'\u001b[0m \u001b[32m'grug think about design \u001b[0m\n",
              "\u001b[32mpatterns. grug think about object oriented programming. grug think about testing. grug think about refactoring. \u001b[0m\n",
              "\u001b[32mgrug think about many things.'\u001b[0m \u001b[32m'grug want to write book about software development. grug want to share knowledge \u001b[0m\n",
              "\u001b[32mwith others. grug want to help others learn. grug want to make others happy.'\u001b[0m \u001b[32m'grug think about many things. grug \u001b[0m\n",
              "\u001b[32mthink about code. grug think about design patterns. grug think about testing. grug think about refactoring. grug \u001b[0m\n",
              "\u001b[32mthink about many things.'\u001b[0m \u001b[32m'grug want to write book about software development. grug want to share knowledge with \u001b[0m\n",
              "\u001b[32mothers. grug want to help others learn. grug want to make others happy.'\u001b[0m \u001b[32m'grug think much about code. grug write \u001b[0m\n",
              "\u001b[32mcode. grug make code work. grug happy. grug want to share code with others. grug write down thoughts on code. grug \u001b[0m\n",
              "\u001b[32mhope others learn from grug.'\u001b[0m \u001b[32m'grug think about design patterns. grug think about object oriented programming. grug\u001b[0m\n",
              "\u001b[32mthink about testing. grug think about refactoring. grug think about many things.'\u001b[0m \u001b[32m'grug want to write book about \u001b[0m\n",
              "\u001b[32msoftware development. grug want to share knowledge with others. grug want to help others learn. grug want to make \u001b[0m\n",
              "\u001b[32mothers happy.'\u001b[0m \u001b[32m'grug think much about code. grug write code. grug make code work. grug happy. grug want to share \u001b[0m\n",
              "\u001b[32mcode with others. grug write down thoughts on code. grug hope others learn from grug.'\u001b[0m 'grug think about design \n",
              "patterns\n",
              "Grug Text: this collection of thoughts on software development gathered by grug brain developer\n"
            ],
            "text/html": [
              "<pre style=\"white-space:pre;overflow-x:auto;line-height:normal;font-family:Menlo,'DejaVu Sans Mono',consolas,'Courier New',monospace\">Plain English: <span style=\"color: #008000; text-decoration-color: #008000\">'grug think much about code. grug write code. grug make code work. grug happy. grug want to share </span>\n",
              "<span style=\"color: #008000; text-decoration-color: #008000\">code with others. grug write down thoughts on code. grug hope others learn from grug.'</span> <span style=\"color: #008000; text-decoration-color: #008000\">'grug think about design </span>\n",
              "<span style=\"color: #008000; text-decoration-color: #008000\">patterns. grug think about object oriented programming. grug think about testing. grug think about refactoring. </span>\n",
              "<span style=\"color: #008000; text-decoration-color: #008000\">grug think about many things.'</span> <span style=\"color: #008000; text-decoration-color: #008000\">'grug want to write book about software development. grug want to share knowledge </span>\n",
              "<span style=\"color: #008000; text-decoration-color: #008000\">with others. grug want to help others learn. grug want to make others happy.'</span> <span style=\"color: #008000; text-decoration-color: #008000\">'grug think about many things. grug </span>\n",
              "<span style=\"color: #008000; text-decoration-color: #008000\">think about code. grug think about design patterns. grug think about testing. grug think about refactoring. grug </span>\n",
              "<span style=\"color: #008000; text-decoration-color: #008000\">think about many things.'</span> <span style=\"color: #008000; text-decoration-color: #008000\">'grug want to write book about software development. grug want to share knowledge with </span>\n",
              "<span style=\"color: #008000; text-decoration-color: #008000\">others. grug want to help others learn. grug want to make others happy.'</span> <span style=\"color: #008000; text-decoration-color: #008000\">'grug think much about code. grug write </span>\n",
              "<span style=\"color: #008000; text-decoration-color: #008000\">code. grug make code work. grug happy. grug want to share code with others. grug write down thoughts on code. grug </span>\n",
              "<span style=\"color: #008000; text-decoration-color: #008000\">hope others learn from grug.'</span> <span style=\"color: #008000; text-decoration-color: #008000\">'grug think about design patterns. grug think about object oriented programming. grug</span>\n",
              "<span style=\"color: #008000; text-decoration-color: #008000\">think about testing. grug think about refactoring. grug think about many things.'</span> <span style=\"color: #008000; text-decoration-color: #008000\">'grug want to write book about </span>\n",
              "<span style=\"color: #008000; text-decoration-color: #008000\">software development. grug want to share knowledge with others. grug want to help others learn. grug want to make </span>\n",
              "<span style=\"color: #008000; text-decoration-color: #008000\">others happy.'</span> <span style=\"color: #008000; text-decoration-color: #008000\">'grug think much about code. grug write code. grug make code work. grug happy. grug want to share </span>\n",
              "<span style=\"color: #008000; text-decoration-color: #008000\">code with others. grug write down thoughts on code. grug hope others learn from grug.'</span> 'grug think about design \n",
              "patterns\n",
              "Grug Text: this collection of thoughts on software development gathered by grug brain developer\n",
              "</pre>\n"
            ]
          },
          "metadata": {}
        },
        {
          "output_type": "execute_result",
          "data": {
            "text/plain": [
              "<bound method SignatureMeta.with_instructions of GrugTranslation(plain_english -> grug_text\n",
              "    instructions='Translate plain english to Grug text.'\n",
              "    plain_english = Field(annotation=str required=True json_schema_extra={'__dspy_field_type': 'input', 'prefix': 'Plain English:', 'desc': '${plain_english}'})\n",
              "    grug_text = Field(annotation=str required=True json_schema_extra={'__dspy_field_type': 'output', 'prefix': 'Grug Text:', 'desc': '${grug_text}'})\n",
              ")>"
            ],
            "text/html": [
              "<div style=\"max-width:800px; border: 1px solid var(--colab-border-color);\"><style>\n",
              "      pre.function-repr-contents {\n",
              "        overflow-x: auto;\n",
              "        padding: 8px 12px;\n",
              "        max-height: 500px;\n",
              "      }\n",
              "\n",
              "      pre.function-repr-contents.function-repr-contents-collapsed {\n",
              "        cursor: pointer;\n",
              "        max-height: 100px;\n",
              "      }\n",
              "    </style>\n",
              "    <pre style=\"white-space: initial; background:\n",
              "         var(--colab-secondary-surface-color); padding: 8px 12px;\n",
              "         border-bottom: 1px solid var(--colab-border-color);\"><b>dspy.signatures.signature.SignatureMeta.with_instructions</b><br/>def with_instructions(cls, instructions: str) -&gt; Type[&#x27;Signature&#x27;]</pre><pre class=\"function-repr-contents function-repr-contents-collapsed\" style=\"\"><a class=\"filepath\" style=\"display:none\" href=\"#\">/usr/local/lib/python3.10/dist-packages/dspy/signatures/signature.py</a>&lt;no docstring&gt;</pre>\n",
              "      <script>\n",
              "      if (google.colab.kernel.accessAllowed && google.colab.files && google.colab.files.view) {\n",
              "        for (const element of document.querySelectorAll('.filepath')) {\n",
              "          element.style.display = 'block'\n",
              "          element.onclick = (event) => {\n",
              "            event.preventDefault();\n",
              "            event.stopPropagation();\n",
              "            google.colab.files.view(element.textContent, 99);\n",
              "          };\n",
              "        }\n",
              "      }\n",
              "      for (const element of document.querySelectorAll('.function-repr-contents')) {\n",
              "        element.onclick = (event) => {\n",
              "          event.preventDefault();\n",
              "          event.stopPropagation();\n",
              "          element.classList.toggle('function-repr-contents-collapsed');\n",
              "        };\n",
              "      }\n",
              "      </script>\n",
              "      </div>"
            ]
          },
          "metadata": {},
          "execution_count": 28
        }
      ]
    },
    {
      "cell_type": "code",
      "source": [
        "class CoT(dspy.Module):\n",
        "    def __init__(self):\n",
        "        super().__init__()\n",
        "        self.prog = dspy.ChainOfThought(GrugTranslation)\n",
        "\n",
        "    def forward(self, plain_english):\n",
        "        return self.prog(plain_english=plain_english)\n",
        "c = CoT()"
      ],
      "metadata": {
        "id": "INJpFwh-yj13"
      },
      "execution_count": null,
      "outputs": []
    },
    {
      "cell_type": "code",
      "source": [
        "c.forward(\"You should not construct complex systems.\")"
      ],
      "metadata": {
        "colab": {
          "base_uri": "https://localhost:8080/",
          "height": 136
        },
        "id": "BT0F_-blylP-",
        "outputId": "6290fd78-75ca-4233-bab4-cf4554dd76fd"
      },
      "execution_count": null,
      "outputs": [
        {
          "output_type": "display_data",
          "data": {
            "text/plain": [
              "$ API Request sent\n"
            ],
            "text/html": [
              "<pre style=\"white-space:pre;overflow-x:auto;line-height:normal;font-family:Menlo,'DejaVu Sans Mono',consolas,'Courier New',monospace\">$ API Request sent\n",
              "</pre>\n"
            ]
          },
          "metadata": {}
        },
        {
          "output_type": "display_data",
          "data": {
            "text/plain": [
              "$ API Request sent\n"
            ],
            "text/html": [
              "<pre style=\"white-space:pre;overflow-x:auto;line-height:normal;font-family:Menlo,'DejaVu Sans Mono',consolas,'Courier New',monospace\">$ API Request sent\n",
              "</pre>\n"
            ]
          },
          "metadata": {}
        },
        {
          "output_type": "execute_result",
          "data": {
            "text/plain": [
              "Prediction(\n",
              "    rationale='p',\n",
              "    grug_text='',\n",
              "    completions=Completions(...)\n",
              ") (2186 completions omitted)"
            ]
          },
          "metadata": {},
          "execution_count": 30
        }
      ]
    }
  ]
}